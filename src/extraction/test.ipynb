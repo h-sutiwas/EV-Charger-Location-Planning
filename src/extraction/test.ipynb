{
 "cells": [
  {
   "cell_type": "code",
   "execution_count": 1,
   "id": "08771c82",
   "metadata": {},
   "outputs": [],
   "source": [
    "import os\n",
    "import sys\n",
    "import pathlib\n",
    "import json\n",
    "import requests\n",
    "from collections import deque\n",
    "\n",
    "import geopy as gp\n",
    "\n",
    "import pandas as pd\n",
    "import numpy as np\n",
    "\n",
    "import overpass\n",
    "\n",
    "import seaborn as sns\n",
    "import matplotlib as plt\n",
    "\n",
    "import openrouteservice as ors\n",
    "from shapely.geometry import Point, LineString\n",
    "\n",
    "import warnings\n",
    "warnings.filterwarnings('ignore')\n",
    "\n",
    "project_path = pathlib.Path.cwd().parent.parent"
   ]
  },
  {
   "cell_type": "code",
   "execution_count": 2,
   "id": "37ab7768",
   "metadata": {},
   "outputs": [],
   "source": [
    "project_path = pathlib.Path.cwd().parent.parent"
   ]
  },
  {
   "cell_type": "code",
   "execution_count": 3,
   "id": "e566fb99",
   "metadata": {},
   "outputs": [],
   "source": [
    "town_halls_coor = pd.read_excel(str(project_path) + \"/data/Coordinates/coor.xlsx\")"
   ]
  },
  {
   "cell_type": "code",
   "execution_count": 4,
   "id": "3ce8c54b",
   "metadata": {},
   "outputs": [],
   "source": [
    "min_lat = town_halls_coor.lat.min()\n",
    "max_lat = town_halls_coor.lat.max()\n",
    "min_lon = town_halls_coor.lon.min()\n",
    "max_lon = town_halls_coor.lon.max()"
   ]
  },
  {
   "cell_type": "code",
   "execution_count": 5,
   "id": "8eb073e8",
   "metadata": {},
   "outputs": [],
   "source": [
    "padding = 0.01\n",
    "n_bound = max_lat + padding\n",
    "s_bound = min_lat - padding\n",
    "e_bound = max_lon + padding\n",
    "w_bound = min_lon - padding"
   ]
  },
  {
   "cell_type": "code",
   "execution_count": 6,
   "id": "61e35f82",
   "metadata": {},
   "outputs": [
    {
     "name": "stdout",
     "output_type": "stream",
     "text": [
      "19.9307, 6.1801, 104.8143, 97.9545\n"
     ]
    }
   ],
   "source": [
    "print(f\"{n_bound:.4f}, {s_bound:.4f}, {e_bound:.4f}, {w_bound:.4f}\")"
   ]
  },
  {
   "cell_type": "code",
   "execution_count": 7,
   "id": "5cadd659",
   "metadata": {},
   "outputs": [],
   "source": [
    "bbox = (n_bound, s_bound, e_bound, w_bound)"
   ]
  },
  {
   "cell_type": "code",
   "execution_count": 8,
   "id": "f7bee3f8",
   "metadata": {},
   "outputs": [],
   "source": [
    "overpass_query = f\"\"\"\n",
    "[out:json][timeout:60];\n",
    "(\n",
    "  way[\"highway\"=\"motorway\"]{bbox};  \n",
    "  way[\"highway\"=\"trunk\"]{bbox};\n",
    "  way[\"highway\"=\"primary\"]{bbox};\n",
    ");\n",
    "out geom;\n",
    "\"\"\""
   ]
  },
  {
   "cell_type": "code",
   "execution_count": 10,
   "id": "ec63747d",
   "metadata": {},
   "outputs": [
    {
     "name": "stdout",
     "output_type": "stream",
     "text": [
      "An error occured due to the Overpass API: [out:json];\n",
      "[out:json][timeout:60];\n",
      "(\n",
      "  way[\"highway\"=\"motorway\"](np.float64(19.930675), np.float64(6.1800880000000005), np.float64(104.8142845), np.float64(97.9545338));  \n",
      "  way[\"highway\"=\"trunk\"](np.float64(19.930675), np.float64(6.1800880000000005), np.float64(104.8142845), np.float64(97.9545338));\n",
      "  way[\"highway\"=\"primary\"](np.float64(19.930675), np.float64(6.1800880000000005), np.float64(104.8142845), np.float64(97.9545338));\n",
      ");\n",
      "out geom;out body;\n"
     ]
    }
   ],
   "source": [
    "try:\n",
    "    api = overpass.API()\n",
    "    response = api.get(overpass_query, responseformat=\"geojson\")\n",
    "    \n",
    "    if response and response.get(\"features\"):\n",
    "        feature_count = len(response[\"features\"])\n",
    "    \n",
    "        output_filename = str(pathlib.Path.cwd().parent.parent) + r\"\\data\\road_network\\bbox_major_highways.geojson\"\n",
    "        \n",
    "        with open(output_filename, \"w\", encoding=\"utf-8\") as f_out:\n",
    "            json.dump(response, f_out, ensure_ascii=False, indent=2)\n",
    "        \n",
    "        print(f\"Data has been saved to '{output_filename}\")\n",
    "    else:\n",
    "        print(\"The query returned no features. The area might not contain major highways.\")\n",
    "    \n",
    "except overpass.errors.OverpassError as e:\n",
    "    print(f\"An error occured due to the Overpass API: {e}\")\n",
    "except Exception as e:\n",
    "    print(f\"An unexpected error occured: {e}\")"
   ]
  },
  {
   "cell_type": "code",
   "execution_count": null,
   "id": "f08d3cf1",
   "metadata": {},
   "outputs": [],
   "source": []
  }
 ],
 "metadata": {
  "kernelspec": {
   "display_name": "weather-app-env",
   "language": "python",
   "name": "python3"
  },
  "language_info": {
   "codemirror_mode": {
    "name": "ipython",
    "version": 3
   },
   "file_extension": ".py",
   "mimetype": "text/x-python",
   "name": "python",
   "nbconvert_exporter": "python",
   "pygments_lexer": "ipython3",
   "version": "3.12.11"
  }
 },
 "nbformat": 4,
 "nbformat_minor": 5
}
